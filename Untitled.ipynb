{
 "cells": [
  {
   "cell_type": "code",
   "execution_count": 1,
   "id": "b238ac9e-791f-46f4-b536-02af2ae79fd1",
   "metadata": {},
   "outputs": [],
   "source": [
    "import pandas as pd\n",
    "import matplotlib.pyplot as plt\n",
    "import numpy as np\n",
    "import seaborn as sns\n",
    "invent=pd.read_csv(\"sales_transactions.csv\")"
   ]
  },
  {
   "cell_type": "code",
   "execution_count": 2,
   "id": "efe55192-52eb-465a-8c7b-ca5ab4e3265e",
   "metadata": {},
   "outputs": [
    {
     "data": {
      "text/html": [
       "<div>\n",
       "<style scoped>\n",
       "    .dataframe tbody tr th:only-of-type {\n",
       "        vertical-align: middle;\n",
       "    }\n",
       "\n",
       "    .dataframe tbody tr th {\n",
       "        vertical-align: top;\n",
       "    }\n",
       "\n",
       "    .dataframe thead th {\n",
       "        text-align: right;\n",
       "    }\n",
       "</style>\n",
       "<table border=\"1\" class=\"dataframe\">\n",
       "  <thead>\n",
       "    <tr style=\"text-align: right;\">\n",
       "      <th></th>\n",
       "      <th>TransactionID</th>\n",
       "      <th>Date</th>\n",
       "      <th>City</th>\n",
       "      <th>CustomerID</th>\n",
       "      <th>CustomerType</th>\n",
       "      <th>Category</th>\n",
       "      <th>UnitsSold</th>\n",
       "      <th>UnitPrice</th>\n",
       "      <th>Revenue</th>\n",
       "      <th>Discount</th>\n",
       "      <th>SalesRep</th>\n",
       "    </tr>\n",
       "  </thead>\n",
       "  <tbody>\n",
       "    <tr>\n",
       "      <th>0</th>\n",
       "      <td>T001</td>\n",
       "      <td>2024-01-15</td>\n",
       "      <td>Lagos</td>\n",
       "      <td>C001</td>\n",
       "      <td>New</td>\n",
       "      <td>Electronics</td>\n",
       "      <td>2</td>\n",
       "      <td>150000</td>\n",
       "      <td>300000</td>\n",
       "      <td>5000</td>\n",
       "      <td>Chuka Obasi</td>\n",
       "    </tr>\n",
       "    <tr>\n",
       "      <th>1</th>\n",
       "      <td>T002</td>\n",
       "      <td>2024-01-18</td>\n",
       "      <td>Abuja</td>\n",
       "      <td>C002</td>\n",
       "      <td>Returning</td>\n",
       "      <td>Appliances</td>\n",
       "      <td>1</td>\n",
       "      <td>85000</td>\n",
       "      <td>85000</td>\n",
       "      <td>0</td>\n",
       "      <td>Mary Felix</td>\n",
       "    </tr>\n",
       "    <tr>\n",
       "      <th>2</th>\n",
       "      <td>T003</td>\n",
       "      <td>2024-01-20</td>\n",
       "      <td>Port Harcourt</td>\n",
       "      <td>C003</td>\n",
       "      <td>New</td>\n",
       "      <td>Accessories</td>\n",
       "      <td>4</td>\n",
       "      <td>5000</td>\n",
       "      <td>20000</td>\n",
       "      <td>200</td>\n",
       "      <td>Abdul Salim</td>\n",
       "    </tr>\n",
       "    <tr>\n",
       "      <th>3</th>\n",
       "      <td>T004</td>\n",
       "      <td>2024-01-21</td>\n",
       "      <td>Lagos</td>\n",
       "      <td>C004</td>\n",
       "      <td>Returning</td>\n",
       "      <td>Electronics</td>\n",
       "      <td>1</td>\n",
       "      <td>160000</td>\n",
       "      <td>160000</td>\n",
       "      <td>3000</td>\n",
       "      <td>Chuka Obasi</td>\n",
       "    </tr>\n",
       "    <tr>\n",
       "      <th>4</th>\n",
       "      <td>T005</td>\n",
       "      <td>2024-02-01</td>\n",
       "      <td>Kano</td>\n",
       "      <td>C005</td>\n",
       "      <td>New</td>\n",
       "      <td>Appliances</td>\n",
       "      <td>2</td>\n",
       "      <td>90000</td>\n",
       "      <td>180000</td>\n",
       "      <td>4000</td>\n",
       "      <td>Mary Felix</td>\n",
       "    </tr>\n",
       "    <tr>\n",
       "      <th>...</th>\n",
       "      <td>...</td>\n",
       "      <td>...</td>\n",
       "      <td>...</td>\n",
       "      <td>...</td>\n",
       "      <td>...</td>\n",
       "      <td>...</td>\n",
       "      <td>...</td>\n",
       "      <td>...</td>\n",
       "      <td>...</td>\n",
       "      <td>...</td>\n",
       "      <td>...</td>\n",
       "    </tr>\n",
       "    <tr>\n",
       "      <th>105</th>\n",
       "      <td>T106</td>\n",
       "      <td>2024-03-05</td>\n",
       "      <td>Lagos</td>\n",
       "      <td>C046</td>\n",
       "      <td>New</td>\n",
       "      <td>Electronics</td>\n",
       "      <td>2</td>\n",
       "      <td>155000</td>\n",
       "      <td>310000</td>\n",
       "      <td>500</td>\n",
       "      <td>Abdul Salim</td>\n",
       "    </tr>\n",
       "    <tr>\n",
       "      <th>106</th>\n",
       "      <td>T107</td>\n",
       "      <td>2024-10-23</td>\n",
       "      <td>Port Harcourt</td>\n",
       "      <td>C061</td>\n",
       "      <td>Returning</td>\n",
       "      <td>Electronics</td>\n",
       "      <td>2</td>\n",
       "      <td>155000</td>\n",
       "      <td>310000</td>\n",
       "      <td>4000</td>\n",
       "      <td>Mary Felix</td>\n",
       "    </tr>\n",
       "    <tr>\n",
       "      <th>107</th>\n",
       "      <td>T108</td>\n",
       "      <td>2024-09-08</td>\n",
       "      <td>Port Harcourt</td>\n",
       "      <td>C070</td>\n",
       "      <td>New</td>\n",
       "      <td>Accessories</td>\n",
       "      <td>1</td>\n",
       "      <td>5500</td>\n",
       "      <td>5500</td>\n",
       "      <td>500</td>\n",
       "      <td>Mary Felix</td>\n",
       "    </tr>\n",
       "    <tr>\n",
       "      <th>108</th>\n",
       "      <td>T109</td>\n",
       "      <td>2024-02-10</td>\n",
       "      <td>Kano</td>\n",
       "      <td>C135</td>\n",
       "      <td>New</td>\n",
       "      <td>Electronics</td>\n",
       "      <td>2</td>\n",
       "      <td>150000</td>\n",
       "      <td>300000</td>\n",
       "      <td>200</td>\n",
       "      <td>Chuka Obasi</td>\n",
       "    </tr>\n",
       "    <tr>\n",
       "      <th>109</th>\n",
       "      <td>T110</td>\n",
       "      <td>2024-11-08</td>\n",
       "      <td>Lagos</td>\n",
       "      <td>C113</td>\n",
       "      <td>New</td>\n",
       "      <td>Electronics</td>\n",
       "      <td>2</td>\n",
       "      <td>162000</td>\n",
       "      <td>324000</td>\n",
       "      <td>7000</td>\n",
       "      <td>Mary Felix</td>\n",
       "    </tr>\n",
       "  </tbody>\n",
       "</table>\n",
       "<p>110 rows × 11 columns</p>\n",
       "</div>"
      ],
      "text/plain": [
       "    TransactionID        Date           City CustomerID CustomerType  \\\n",
       "0            T001  2024-01-15          Lagos       C001          New   \n",
       "1            T002  2024-01-18          Abuja       C002    Returning   \n",
       "2            T003  2024-01-20  Port Harcourt       C003          New   \n",
       "3            T004  2024-01-21          Lagos       C004    Returning   \n",
       "4            T005  2024-02-01           Kano       C005          New   \n",
       "..            ...         ...            ...        ...          ...   \n",
       "105          T106  2024-03-05          Lagos       C046          New   \n",
       "106          T107  2024-10-23  Port Harcourt       C061    Returning   \n",
       "107          T108  2024-09-08  Port Harcourt       C070          New   \n",
       "108          T109  2024-02-10           Kano       C135          New   \n",
       "109          T110  2024-11-08          Lagos       C113          New   \n",
       "\n",
       "        Category  UnitsSold  UnitPrice  Revenue  Discount     SalesRep  \n",
       "0    Electronics          2     150000   300000      5000  Chuka Obasi  \n",
       "1     Appliances          1      85000    85000         0   Mary Felix  \n",
       "2    Accessories          4       5000    20000       200  Abdul Salim  \n",
       "3    Electronics          1     160000   160000      3000  Chuka Obasi  \n",
       "4     Appliances          2      90000   180000      4000   Mary Felix  \n",
       "..           ...        ...        ...      ...       ...          ...  \n",
       "105  Electronics          2     155000   310000       500  Abdul Salim  \n",
       "106  Electronics          2     155000   310000      4000   Mary Felix  \n",
       "107  Accessories          1       5500     5500       500   Mary Felix  \n",
       "108  Electronics          2     150000   300000       200  Chuka Obasi  \n",
       "109  Electronics          2     162000   324000      7000   Mary Felix  \n",
       "\n",
       "[110 rows x 11 columns]"
      ]
     },
     "execution_count": 2,
     "metadata": {},
     "output_type": "execute_result"
    }
   ],
   "source": [
    "invent"
   ]
  },
  {
   "cell_type": "code",
   "execution_count": 3,
   "id": "7d66c0fb-9ded-41f2-b054-bc05367d30a4",
   "metadata": {},
   "outputs": [
    {
     "data": {
      "text/plain": [
       "<bound method NDFrame.head of     TransactionID        Date           City CustomerID CustomerType  \\\n",
       "0            T001  2024-01-15          Lagos       C001          New   \n",
       "1            T002  2024-01-18          Abuja       C002    Returning   \n",
       "2            T003  2024-01-20  Port Harcourt       C003          New   \n",
       "3            T004  2024-01-21          Lagos       C004    Returning   \n",
       "4            T005  2024-02-01           Kano       C005          New   \n",
       "..            ...         ...            ...        ...          ...   \n",
       "105          T106  2024-03-05          Lagos       C046          New   \n",
       "106          T107  2024-10-23  Port Harcourt       C061    Returning   \n",
       "107          T108  2024-09-08  Port Harcourt       C070          New   \n",
       "108          T109  2024-02-10           Kano       C135          New   \n",
       "109          T110  2024-11-08          Lagos       C113          New   \n",
       "\n",
       "        Category  UnitsSold  UnitPrice  Revenue  Discount     SalesRep  \n",
       "0    Electronics          2     150000   300000      5000  Chuka Obasi  \n",
       "1     Appliances          1      85000    85000         0   Mary Felix  \n",
       "2    Accessories          4       5000    20000       200  Abdul Salim  \n",
       "3    Electronics          1     160000   160000      3000  Chuka Obasi  \n",
       "4     Appliances          2      90000   180000      4000   Mary Felix  \n",
       "..           ...        ...        ...      ...       ...          ...  \n",
       "105  Electronics          2     155000   310000       500  Abdul Salim  \n",
       "106  Electronics          2     155000   310000      4000   Mary Felix  \n",
       "107  Accessories          1       5500     5500       500   Mary Felix  \n",
       "108  Electronics          2     150000   300000       200  Chuka Obasi  \n",
       "109  Electronics          2     162000   324000      7000   Mary Felix  \n",
       "\n",
       "[110 rows x 11 columns]>"
      ]
     },
     "execution_count": 3,
     "metadata": {},
     "output_type": "execute_result"
    }
   ],
   "source": [
    "invent.head"
   ]
  },
  {
   "cell_type": "code",
   "execution_count": 4,
   "id": "155a5d06-199c-4462-a5b6-002091040c63",
   "metadata": {},
   "outputs": [
    {
     "data": {
      "text/plain": [
       "TransactionID    object\n",
       "Date             object\n",
       "City             object\n",
       "CustomerID       object\n",
       "CustomerType     object\n",
       "Category         object\n",
       "UnitsSold         int64\n",
       "UnitPrice         int64\n",
       "Revenue           int64\n",
       "Discount          int64\n",
       "SalesRep         object\n",
       "dtype: object"
      ]
     },
     "execution_count": 4,
     "metadata": {},
     "output_type": "execute_result"
    }
   ],
   "source": [
    "invent.dtypes"
   ]
  },
  {
   "cell_type": "code",
   "execution_count": 5,
   "id": "1c35a2be-275f-4ca8-aa9a-6d2ed81764b4",
   "metadata": {},
   "outputs": [
    {
     "data": {
      "text/plain": [
       "0      False\n",
       "1      False\n",
       "2      False\n",
       "3      False\n",
       "4      False\n",
       "       ...  \n",
       "105    False\n",
       "106    False\n",
       "107    False\n",
       "108    False\n",
       "109    False\n",
       "Length: 110, dtype: bool"
      ]
     },
     "execution_count": 5,
     "metadata": {},
     "output_type": "execute_result"
    }
   ],
   "source": [
    "#duplicate is used to check for duplicate values\n",
    "invent.duplicated()"
   ]
  },
  {
   "cell_type": "code",
   "execution_count": null,
   "id": "f97e9b7a-ffc8-49a8-b1ac-065b88afd4c1",
   "metadata": {},
   "outputs": [],
   "source": []
  },
  {
   "cell_type": "code",
   "execution_count": 6,
   "id": "f0484908-bbd4-405f-8c4c-97fc29b81713",
   "metadata": {},
   "outputs": [
    {
     "name": "stdout",
     "output_type": "stream",
     "text": [
      "Total Revenue: $29,521,000\n"
     ]
    }
   ],
   "source": [
    "1.#What is the total revenue generated in the dataset?\n",
    "Total_Rev=invent['Revenue'].sum(numeric_only=True)\n",
    "print(f\"Total Revenue: ${Total_Rev:,.0f}\")"
   ]
  },
  {
   "cell_type": "code",
   "execution_count": 7,
   "id": "85f02035-d351-4873-a6e7-61f623fc8e83",
   "metadata": {},
   "outputs": [
    {
     "data": {
      "text/plain": [
       "110"
      ]
     },
     "execution_count": 7,
     "metadata": {},
     "output_type": "execute_result"
    }
   ],
   "source": [
    "2.#How many total transactions were recorded?\n",
    "Total_Tran=invent['TransactionID'].count()\n",
    "Total_Tran"
   ]
  },
  {
   "cell_type": "code",
   "execution_count": 8,
   "id": "db7b59d3-744f-46d6-85e3-6d6a6463cb47",
   "metadata": {},
   "outputs": [
    {
     "data": {
      "text/plain": [
       "77"
      ]
     },
     "execution_count": 8,
     "metadata": {},
     "output_type": "execute_result"
    }
   ],
   "source": [
    "3.#How many distinct customers made purchases?\n",
    "Dist_Cus=invent['CustomerID'].nunique()\n",
    "Dist_Cus"
   ]
  },
  {
   "cell_type": "code",
   "execution_count": 9,
   "id": "0bea3f02-af98-4b4c-a402-f8b6063c073d",
   "metadata": {},
   "outputs": [
    {
     "name": "stdout",
     "output_type": "stream",
     "text": [
      "Total Revenue From Lagos: $9,285,500\n"
     ]
    }
   ],
   "source": [
    "4.#What is the total revenue generated from Lagos alone?\n",
    "Lag_Tot_Rev=invent[invent['City']=='Lagos']['Revenue'].sum()\n",
    "print(f\"Total Revenue From Lagos: ${Lag_Tot_Rev:,.0f}\")"
   ]
  },
  {
   "cell_type": "code",
   "execution_count": 11,
   "id": "4d38f025-6e62-410d-ab01-da0a8f6f6037",
   "metadata": {},
   "outputs": [
    {
     "name": "stdout",
     "output_type": "stream",
     "text": [
      "Unit of Accessories sold in Abuja: 22\n"
     ]
    }
   ],
   "source": [
    "5.#How many units of \"Accessories\" were sold in Abuja?\n",
    "unit_Access_Abuja=invent[(invent['Category']=='Accessories')&(invent['City']=='Abuja')]['UnitsSold'].sum()\n",
    "print(f\"Unit of Accessories sold in Abuja: {unit_Access_Abuja}\")"
   ]
  },
  {
   "cell_type": "code",
   "execution_count": 12,
   "id": "6de7fb6b-9a5c-4385-b07e-6f9e254701b0",
   "metadata": {},
   "outputs": [
    {
     "name": "stdout",
     "output_type": "stream",
     "text": [
      "Average Discount From All Transaction: $3,248.18\n"
     ]
    }
   ],
   "source": [
    "6.#What is the average discount offered across all transactions?\n",
    "Avg_Dis=invent['Discount'].mean()\n",
    "print(f\"Average Discount From All Transaction: ${Avg_Dis:,.2f}\")"
   ]
  },
  {
   "cell_type": "code",
   "execution_count": 13,
   "id": "6f34ed09-11e0-4cd1-b473-f4adcd9eff96",
   "metadata": {},
   "outputs": [
    {
     "name": "stdout",
     "output_type": "stream",
     "text": [
      "Revenue For Februrary 2024: $3,855,000\n"
     ]
    }
   ],
   "source": [
    "7.#What was the revenue for February 2024?\n",
    "invent[\"Date\"] = pd.to_datetime(invent[\"Date\"])\n",
    "revenue_feb_2024 = invent.loc[invent[\"Date\"].dt.strftime(\"%Y-%m\") == \"2024-02\", \"Revenue\"].sum()\n",
    "print(f\"Revenue For Februrary 2024: ${revenue_feb_2024:,.0f}\")"
   ]
  },
  {
   "cell_type": "code",
   "execution_count": 14,
   "id": "a6872e08-b23c-4c11-b513-22463ea33d51",
   "metadata": {},
   "outputs": [
    {
     "name": "stdout",
     "output_type": "stream",
     "text": [
      "Revenue for February 2024: $3,855,000\n"
     ]
    }
   ],
   "source": [
    "invent['Date'] = pd.to_datetime(invent['Date'])\n",
    "revenue_feb_2024=invent[(invent['Date'].dt.year==2024)&(invent['Date'].dt.month==2)]['Revenue'].sum()\n",
    "print(f\"Revenue for February 2024: ${revenue_feb_2024:,.0f}\")"
   ]
  },
  {
   "cell_type": "code",
   "execution_count": 15,
   "id": "750baad9-e9a8-417d-a812-cc9acf8d30e3",
   "metadata": {},
   "outputs": [
    {
     "name": "stdout",
     "output_type": "stream",
     "text": [
      " Month with Highest Sales Revenue: 2024-09\n"
     ]
    }
   ],
   "source": [
    "8.#Which month had the highest sales revenue?\n",
    "invent['MonthYear']=invent['Date'].dt.to_period('M')\n",
    "monthly_revenue=invent.groupby('MonthYear')['Revenue'].sum()\n",
    "highest_revenue_month=monthly_revenue.idxmax().strftime('%Y-%m')\n",
    "print(f\" Month with Highest Sales Revenue: {highest_revenue_month}\")"
   ]
  },
  {
   "cell_type": "code",
   "execution_count": 16,
   "id": "c2f36fc2-ad91-4773-9cb6-72f1a27ceffd",
   "metadata": {},
   "outputs": [
    {
     "name": "stdout",
     "output_type": "stream",
     "text": [
      " Monthly Revenue Trend:\n",
      "| MonthYear   | Revenue   |\n",
      "|:------------|:----------|\n",
      "| 2024-01     | 2943000   |\n",
      "| 2024-02     | 3855000   |\n",
      "| 2024-03     | 2184500   |\n",
      "| 2024-04     | 1559500   |\n",
      "| 2024-05     | 2484500   |\n",
      "| 2024-06     | 1083000   |\n",
      "| 2024-07     | 1340000   |\n",
      "| 2024-08     | 552500    |\n",
      "| 2024-09     | 4744500   |\n",
      "| 2024-10     | 2739000   |\n",
      "| 2024-11     | 2009500   |\n",
      "| 2024-12     | 3889000   |\n",
      "| 2025-01     | 137000    |\n"
     ]
    }
   ],
   "source": [
    "9.#Create a measure to calculate monthly revenue trend\n",
    "monthly_revenue_trend=monthly_revenue.reset_index()\n",
    "monthly_revenue_trend['MonthYear']=monthly_revenue_trend['MonthYear'].astype(str)\n",
    "print(f\" Monthly Revenue Trend:\")\n",
    "print(monthly_revenue_trend.to_markdown(index=False, numalign=\"left\", stralign=\"left\"))"
   ]
  },
  {
   "cell_type": "code",
   "execution_count": null,
   "id": "3993344d-41bf-4d62-88fa-f3ff3a7bfc8f",
   "metadata": {},
   "outputs": [],
   "source": []
  },
  {
   "cell_type": "code",
   "execution_count": 17,
   "id": "634c5a0d-6987-4e1c-9703-23f29294d17e",
   "metadata": {},
   "outputs": [
    {
     "data": {
      "text/plain": [
       "<Figure size 1000x800 with 0 Axes>"
      ]
     },
     "metadata": {},
     "output_type": "display_data"
    },
    {
     "data": {
      "image/png": "[encoded data removed]",
      "text/plain": [
       "<Figure size 640x480 with 1 Axes>"
      ]
     },
     "metadata": {},
     "output_type": "display_data"
    }
   ],
   "source": [
    "plt.figure(figsize=(10,8))\n",
    "monthly_revenue_trend.plot(kind='line',x='MonthYear',y='Revenue',color=['yellow'])\n",
    "plt.title('Monthly Revenue Trend')\n",
    "plt.xlabel('MonthYear')\n",
    "plt.ylabel('Revenue ($)')\n",
    "plt.xticks(rotation=0)\n",
    "plt.tight_layout()\n",
    "plt.show()"
   ]
  },
  {
   "cell_type": "code",
   "execution_count": null,
   "id": "27d9f19e-22a7-4e52-87d7-722f80c6b778",
   "metadata": {},
   "outputs": [],
   "source": []
  },
  {
   "cell_type": "code",
   "execution_count": 18,
   "id": "e8ea10d5-42b7-481e-b658-ac0776136945",
   "metadata": {},
   "outputs": [
    {
     "name": "stdout",
     "output_type": "stream",
     "text": [
      " Revenue Split by Customer Type:\n",
      "| CustomerType   | Revenue   |\n",
      "|:---------------|:----------|\n",
      "| New            | 12027000  |\n",
      "| Returning      | 17494000  |\n"
     ]
    }
   ],
   "source": [
    "10.#What is the revenue split between New and Returning customers?\n",
    "revenue_split=invent.groupby('CustomerType')['Revenue'].sum().reset_index()\n",
    "print(f\" Revenue Split by Customer Type:\")\n",
    "print(revenue_split.to_markdown(index=False, numalign=\"left\", stralign=\"left\"))"
   ]
  },
  {
   "cell_type": "code",
   "execution_count": 19,
   "id": "db2c1d6d-56a9-4a71-9d78-f25681f98f74",
   "metadata": {
    "collapsed": true,
    "jupyter": {
     "outputs_hidden": true
    }
   },
   "outputs": [
    {
     "data": {
      "text/plain": [
       "<Figure size 800x600 with 0 Axes>"
      ]
     },
     "metadata": {},
     "output_type": "display_data"
    },
    {
     "data": {
      "image/png": "[encoded data removed]",
      "text/plain": [
       "<Figure size 640x480 with 1 Axes>"
      ]
     },
     "metadata": {},
     "output_type": "display_data"
    }
   ],
   "source": [
    "plt.figure(figsize=(8,6))\n",
    "revenue_split.plot(kind='pie',x='CustomerType',y='Revenue',color=['blue','green'])\n",
    "plt.title('Revenue Split by Customer Type')\n",
    "plt.xlabel('CustomerType')\n",
    "plt.ylabel('Revenue ($)')\n",
    "plt.xticks(rotation=0)\n",
    "plt.tight_layout()\n",
    "plt.show()"
   ]
  },
  {
   "cell_type": "code",
   "execution_count": null,
   "id": "1f269a06-2c2b-468d-8c76-2c707883dd47",
   "metadata": {},
   "outputs": [],
   "source": []
  },
  {
   "cell_type": "code",
   "execution_count": null,
   "id": "a9b18029-e38e-4d38-a686-788c9c1c3ab9",
   "metadata": {},
   "outputs": [],
   "source": []
  },
  {
   "cell_type": "code",
   "execution_count": 20,
   "id": "a8b1b0c4-5551-49fd-91cc-7aacbe319a09",
   "metadata": {},
   "outputs": [
    {
     "name": "stdout",
     "output_type": "stream",
     "text": [
      " Average Revenue Per Customer: $383,389.61\n"
     ]
    }
   ],
   "source": [
    "11.#What is the average revenue per customer?\n",
    "#Calculate the total revenue each customer generated first\n",
    "revenue_per_customer=invent.groupby('CustomerID')['Revenue'].sum()\n",
    "Avg_revenue_per_customer=revenue_per_customer.mean()\n",
    "print(f\" Average Revenue Per Customer: ${Avg_revenue_per_customer:,.2f}\")"
   ]
  },
  {
   "cell_type": "code",
   "execution_count": 21,
   "id": "e203623b-05ca-483f-a4df-0f1d8112a64b",
   "metadata": {},
   "outputs": [
    {
     "name": "stdout",
     "output_type": "stream",
     "text": [
      "Average Revenue Per Customer: $383,389.61\n"
     ]
    }
   ],
   "source": [
    "Avg_revenue_per_customer=invent.groupby('CustomerID')['Revenue'].sum().mean()\n",
    "print(f\"Average Revenue Per Customer: ${Avg_revenue_per_customer:,.2f}\")"
   ]
  },
  {
   "cell_type": "code",
   "execution_count": null,
   "id": "304c74ef-62cb-4cd2-8a5c-ebd6407c8b62",
   "metadata": {},
   "outputs": [],
   "source": []
  },
  {
   "cell_type": "code",
   "execution_count": 22,
   "id": "9a2ccbe7-eb47-4df7-9ce5-fac2470187ed",
   "metadata": {},
   "outputs": [
    {
     "name": "stdout",
     "output_type": "stream",
     "text": [
      " Customers bought more than once: 23\n"
     ]
    }
   ],
   "source": [
    "12.#How many customers bought more than once?\n",
    "customer_transaction_count=invent.groupby('CustomerID')['TransactionID'].count()\n",
    "customers_bought_more_than_once=(customer_transaction_count>1).sum()\n",
    "print(f\" Customers bought more than once: {customers_bought_more_than_once}\")"
   ]
  },
  {
   "cell_type": "code",
   "execution_count": 23,
   "id": "67f6dd0a-1fdf-4bc1-ad20-c9d25777e254",
   "metadata": {},
   "outputs": [
    {
     "name": "stdout",
     "output_type": "stream",
     "text": [
      " Customers bought more than once:23\n"
     ]
    }
   ],
   "source": [
    "customer_counts=invent['CustomerID'].value_counts()\n",
    "customers_bought_more_than_once=(customer_counts>1).sum()\n",
    "print(f\" Customers bought more than once:{customers_bought_more_than_once}\")"
   ]
  },
  {
   "cell_type": "code",
   "execution_count": null,
   "id": "1b3bbf28-275b-4127-8943-7562f646694a",
   "metadata": {},
   "outputs": [],
   "source": []
  },
  {
   "cell_type": "code",
   "execution_count": 24,
   "id": "ad8fb355-13f5-40a9-86d0-46db17514c06",
   "metadata": {},
   "outputs": [
    {
     "name": "stdout",
     "output_type": "stream",
     "text": [
      " Product Category with Most revenue: Electronics\n"
     ]
    }
   ],
   "source": [
    "13.#Which product category generated the most revenue?\n",
    "category_revenue=invent.groupby('Category')['Revenue'].sum()\n",
    "most_revenue_category=category_revenue.idxmax()\n",
    "print(f\" Product Category with Most revenue: {most_revenue_category}\")"
   ]
  },
  {
   "cell_type": "code",
   "execution_count": 25,
   "id": "b415cdbf-cc29-4e86-a694-1ea10ac22aa8",
   "metadata": {},
   "outputs": [
    {
     "data": {
      "text/plain": [
       "Text(0.5, 1.0, 'Bar chart for Product Category with Most revenue')"
      ]
     },
     "execution_count": 25,
     "metadata": {},
     "output_type": "execute_result"
    },
    {
     "data": {
      "image/png": "[encoded data removed]",
      "text/plain": [
       "<Figure size 640x480 with 1 Axes>"
      ]
     },
     "metadata": {},
     "output_type": "display_data"
    }
   ],
   "source": [
    "plt.bar(invent[\"Category\"],invent[\"Revenue\"],color=\"blue\")\n",
    "plt.xlabel(\"Category\")\n",
    "plt.ylabel(\"Revenue\")\n",
    "plt.title(\"Bar chart for Product Category with Most revenue\")"
   ]
  },
  {
   "cell_type": "code",
   "execution_count": null,
   "id": "defd680b-f25d-4aba-a8b1-11882cad2606",
   "metadata": {},
   "outputs": [],
   "source": []
  },
  {
   "cell_type": "code",
   "execution_count": 26,
   "id": "7442a97d-4609-42a8-adaa-618ab3e1d985",
   "metadata": {},
   "outputs": [
    {
     "name": "stdout",
     "output_type": "stream",
     "text": [
      "Average Revenue Per Unit for Electronics:$156,959.02\n"
     ]
    }
   ],
   "source": [
    "14.#What is the average revenue per unit for Electronics?\n",
    "electronics_data=invent[invent['Category']=='Electronics']\n",
    "Avg_revenue_per_unit_Electronics=electronics_data['Revenue'].sum()/electronics_data['UnitsSold'].sum()\n",
    "print(f\"Average Revenue Per Unit for Electronics:${Avg_revenue_per_unit_Electronics:,.2f}\")"
   ]
  },
  {
   "cell_type": "code",
   "execution_count": null,
   "id": "ca1a7e4e-0c2d-4aec-861d-6a89f7ad5010",
   "metadata": {},
   "outputs": [],
   "source": []
  },
  {
   "cell_type": "code",
   "execution_count": 27,
   "id": "9b1e9cd2-87cf-4a3d-b19a-3eaa50649bc8",
   "metadata": {},
   "outputs": [
    {
     "name": "stdout",
     "output_type": "stream",
     "text": [
      "Average Revenue Per Unit for Electronics: $156,959.02\n"
     ]
    }
   ],
   "source": [
    "electronics_data = invent[invent['Category'] == 'Electronics']\n",
    "total_electronics_revenue = electronics_data['Revenue'].sum()\n",
    "total_electronics_units = electronics_data['UnitsSold'].sum()\n",
    "avg_revenue_per_unit_electronics = total_electronics_revenue / total_electronics_units if total_electronics_units else 0\n",
    "print(f\"Average Revenue Per Unit for Electronics: ${avg_revenue_per_unit_electronics:,.2f}\")"
   ]
  },
  {
   "cell_type": "code",
   "execution_count": null,
   "id": "0290b4ba-788c-40b5-bed0-3504a8916765",
   "metadata": {},
   "outputs": [],
   "source": []
  },
  {
   "cell_type": "code",
   "execution_count": 28,
   "id": "e55362ea-e198-4dd1-917f-56dcfc2eda9d",
   "metadata": {},
   "outputs": [
    {
     "name": "stdout",
     "output_type": "stream",
     "text": [
      "Sales Rep with Highest Total Revenue:Abdul Salim\n"
     ]
    }
   ],
   "source": [
    "15.#Which sales rep generated the highest total revenue?\n",
    "sales_rep_revenue=invent.groupby('SalesRep')['Revenue'].sum()\n",
    "highest_revenue_rep=sales_rep_revenue.idxmax()\n",
    "print(f\"Sales Rep with Highest Total Revenue:{highest_revenue_rep}\")"
   ]
  },
  {
   "cell_type": "code",
   "execution_count": 38,
   "id": "31c18477-dc54-4a11-b729-30c5108a7e7c",
   "metadata": {},
   "outputs": [
    {
     "ename": "ValueError",
     "evalue": "'green,red,yellow' is not a valid color value.",
     "output_type": "error",
     "traceback": [
      "\u001b[1;31m---------------------------------------------------------------------------\u001b[0m",
      "\u001b[1;31mValueError\u001b[0m                                Traceback (most recent call last)",
      "Cell \u001b[1;32mIn[38], line 1\u001b[0m\n\u001b[1;32m----> 1\u001b[0m plt\u001b[38;5;241m.\u001b[39mbar(invent[\u001b[38;5;124m\"\u001b[39m\u001b[38;5;124mSalesRep\u001b[39m\u001b[38;5;124m\"\u001b[39m],invent[\u001b[38;5;124m\"\u001b[39m\u001b[38;5;124mRevenue\u001b[39m\u001b[38;5;124m\"\u001b[39m],color\u001b[38;5;241m=\u001b[39m\u001b[38;5;124m\"\u001b[39m\u001b[38;5;124mgreen,red,yellow\u001b[39m\u001b[38;5;124m\"\u001b[39m)\n\u001b[0;32m      2\u001b[0m plt\u001b[38;5;241m.\u001b[39mxlabel(\u001b[38;5;124m\"\u001b[39m\u001b[38;5;124mSalesRep\u001b[39m\u001b[38;5;124m\"\u001b[39m)\n\u001b[0;32m      3\u001b[0m plt\u001b[38;5;241m.\u001b[39mylabel(\u001b[38;5;124m\"\u001b[39m\u001b[38;5;124mRevenue\u001b[39m\u001b[38;5;124m\"\u001b[39m)\n",
      "File \u001b[1;32m~\\anaconda3\\Lib\\site-packages\\matplotlib\\pyplot.py:2956\u001b[0m, in \u001b[0;36mbar\u001b[1;34m(x, height, width, bottom, align, data, **kwargs)\u001b[0m\n\u001b[0;32m   2945\u001b[0m \u001b[38;5;129m@_copy_docstring_and_deprecators\u001b[39m(Axes\u001b[38;5;241m.\u001b[39mbar)\n\u001b[0;32m   2946\u001b[0m \u001b[38;5;28;01mdef\u001b[39;00m \u001b[38;5;21mbar\u001b[39m(\n\u001b[0;32m   2947\u001b[0m     x: \u001b[38;5;28mfloat\u001b[39m \u001b[38;5;241m|\u001b[39m ArrayLike,\n\u001b[1;32m   (...)\u001b[0m\n\u001b[0;32m   2954\u001b[0m     \u001b[38;5;241m*\u001b[39m\u001b[38;5;241m*\u001b[39mkwargs,\n\u001b[0;32m   2955\u001b[0m ) \u001b[38;5;241m-\u001b[39m\u001b[38;5;241m>\u001b[39m BarContainer:\n\u001b[1;32m-> 2956\u001b[0m     \u001b[38;5;28;01mreturn\u001b[39;00m gca()\u001b[38;5;241m.\u001b[39mbar(\n\u001b[0;32m   2957\u001b[0m         x,\n\u001b[0;32m   2958\u001b[0m         height,\n\u001b[0;32m   2959\u001b[0m         width\u001b[38;5;241m=\u001b[39mwidth,\n\u001b[0;32m   2960\u001b[0m         bottom\u001b[38;5;241m=\u001b[39mbottom,\n\u001b[0;32m   2961\u001b[0m         align\u001b[38;5;241m=\u001b[39malign,\n\u001b[0;32m   2962\u001b[0m         \u001b[38;5;241m*\u001b[39m\u001b[38;5;241m*\u001b[39m({\u001b[38;5;124m\"\u001b[39m\u001b[38;5;124mdata\u001b[39m\u001b[38;5;124m\"\u001b[39m: data} \u001b[38;5;28;01mif\u001b[39;00m data \u001b[38;5;129;01mis\u001b[39;00m \u001b[38;5;129;01mnot\u001b[39;00m \u001b[38;5;28;01mNone\u001b[39;00m \u001b[38;5;28;01melse\u001b[39;00m {}),\n\u001b[0;32m   2963\u001b[0m         \u001b[38;5;241m*\u001b[39m\u001b[38;5;241m*\u001b[39mkwargs,\n\u001b[0;32m   2964\u001b[0m     )\n",
      "File \u001b[1;32m~\\anaconda3\\Lib\\site-packages\\matplotlib\\__init__.py:1473\u001b[0m, in \u001b[0;36m_preprocess_data.<locals>.inner\u001b[1;34m(ax, data, *args, **kwargs)\u001b[0m\n\u001b[0;32m   1470\u001b[0m \u001b[38;5;129m@functools\u001b[39m\u001b[38;5;241m.\u001b[39mwraps(func)\n\u001b[0;32m   1471\u001b[0m \u001b[38;5;28;01mdef\u001b[39;00m \u001b[38;5;21minner\u001b[39m(ax, \u001b[38;5;241m*\u001b[39margs, data\u001b[38;5;241m=\u001b[39m\u001b[38;5;28;01mNone\u001b[39;00m, \u001b[38;5;241m*\u001b[39m\u001b[38;5;241m*\u001b[39mkwargs):\n\u001b[0;32m   1472\u001b[0m     \u001b[38;5;28;01mif\u001b[39;00m data \u001b[38;5;129;01mis\u001b[39;00m \u001b[38;5;28;01mNone\u001b[39;00m:\n\u001b[1;32m-> 1473\u001b[0m         \u001b[38;5;28;01mreturn\u001b[39;00m func(\n\u001b[0;32m   1474\u001b[0m             ax,\n\u001b[0;32m   1475\u001b[0m             \u001b[38;5;241m*\u001b[39m\u001b[38;5;28mmap\u001b[39m(sanitize_sequence, args),\n\u001b[0;32m   1476\u001b[0m             \u001b[38;5;241m*\u001b[39m\u001b[38;5;241m*\u001b[39m{k: sanitize_sequence(v) \u001b[38;5;28;01mfor\u001b[39;00m k, v \u001b[38;5;129;01min\u001b[39;00m kwargs\u001b[38;5;241m.\u001b[39mitems()})\n\u001b[0;32m   1478\u001b[0m     bound \u001b[38;5;241m=\u001b[39m new_sig\u001b[38;5;241m.\u001b[39mbind(ax, \u001b[38;5;241m*\u001b[39margs, \u001b[38;5;241m*\u001b[39m\u001b[38;5;241m*\u001b[39mkwargs)\n\u001b[0;32m   1479\u001b[0m     auto_label \u001b[38;5;241m=\u001b[39m (bound\u001b[38;5;241m.\u001b[39marguments\u001b[38;5;241m.\u001b[39mget(label_namer)\n\u001b[0;32m   1480\u001b[0m                   \u001b[38;5;129;01mor\u001b[39;00m bound\u001b[38;5;241m.\u001b[39mkwargs\u001b[38;5;241m.\u001b[39mget(label_namer))\n",
      "File \u001b[1;32m~\\anaconda3\\Lib\\site-packages\\matplotlib\\axes\\_axes.py:2544\u001b[0m, in \u001b[0;36mAxes.bar\u001b[1;34m(self, x, height, width, bottom, align, **kwargs)\u001b[0m\n\u001b[0;32m   2542\u001b[0m linewidth \u001b[38;5;241m=\u001b[39m itertools\u001b[38;5;241m.\u001b[39mcycle(np\u001b[38;5;241m.\u001b[39matleast_1d(linewidth))\n\u001b[0;32m   2543\u001b[0m hatch \u001b[38;5;241m=\u001b[39m itertools\u001b[38;5;241m.\u001b[39mcycle(np\u001b[38;5;241m.\u001b[39matleast_1d(hatch))\n\u001b[1;32m-> 2544\u001b[0m color \u001b[38;5;241m=\u001b[39m itertools\u001b[38;5;241m.\u001b[39mchain(itertools\u001b[38;5;241m.\u001b[39mcycle(mcolors\u001b[38;5;241m.\u001b[39mto_rgba_array(color)),\n\u001b[0;32m   2545\u001b[0m                         \u001b[38;5;66;03m# Fallback if color == \"none\".\u001b[39;00m\n\u001b[0;32m   2546\u001b[0m                         itertools\u001b[38;5;241m.\u001b[39mrepeat(\u001b[38;5;124m'\u001b[39m\u001b[38;5;124mnone\u001b[39m\u001b[38;5;124m'\u001b[39m))\n\u001b[0;32m   2547\u001b[0m \u001b[38;5;28;01mif\u001b[39;00m edgecolor \u001b[38;5;129;01mis\u001b[39;00m \u001b[38;5;28;01mNone\u001b[39;00m:\n\u001b[0;32m   2548\u001b[0m     edgecolor \u001b[38;5;241m=\u001b[39m itertools\u001b[38;5;241m.\u001b[39mrepeat(\u001b[38;5;28;01mNone\u001b[39;00m)\n",
      "File \u001b[1;32m~\\anaconda3\\Lib\\site-packages\\matplotlib\\colors.py:496\u001b[0m, in \u001b[0;36mto_rgba_array\u001b[1;34m(c, alpha)\u001b[0m\n\u001b[0;32m    494\u001b[0m         \u001b[38;5;28;01mraise\u001b[39;00m e\n\u001b[0;32m    495\u001b[0m \u001b[38;5;28;01mif\u001b[39;00m \u001b[38;5;28misinstance\u001b[39m(c, \u001b[38;5;28mstr\u001b[39m):\n\u001b[1;32m--> 496\u001b[0m     \u001b[38;5;28;01mraise\u001b[39;00m \u001b[38;5;167;01mValueError\u001b[39;00m(\u001b[38;5;124mf\u001b[39m\u001b[38;5;124m\"\u001b[39m\u001b[38;5;132;01m{\u001b[39;00mc\u001b[38;5;132;01m!r}\u001b[39;00m\u001b[38;5;124m is not a valid color value.\u001b[39m\u001b[38;5;124m\"\u001b[39m)\n\u001b[0;32m    498\u001b[0m \u001b[38;5;28;01mif\u001b[39;00m \u001b[38;5;28mlen\u001b[39m(c) \u001b[38;5;241m==\u001b[39m \u001b[38;5;241m0\u001b[39m:\n\u001b[0;32m    499\u001b[0m     \u001b[38;5;28;01mreturn\u001b[39;00m np\u001b[38;5;241m.\u001b[39mzeros((\u001b[38;5;241m0\u001b[39m, \u001b[38;5;241m4\u001b[39m), \u001b[38;5;28mfloat\u001b[39m)\n",
      "\u001b[1;31mValueError\u001b[0m: 'green,red,yellow' is not a valid color value."
     ]
    },
    {
     "data": {
      "image/png": "[encoded data removed]",
      "text/plain": [
       "<Figure size 640x480 with 1 Axes>"
      ]
     },
     "metadata": {},
     "output_type": "display_data"
    }
   ],
   "source": [
    "plt.bar(invent[\"SalesRep\"],invent[\"Revenue\"],color=\"green,red,yellow\")\n",
    "plt.xlabel(\"SalesRep\")\n",
    "plt.ylabel(\"Revenue\")\n",
    "plt.title(\"Bar Chart for Sales Rep with Highest Total Revenue\")"
   ]
  },
  {
   "cell_type": "code",
   "execution_count": null,
   "id": "a6496fe5-b530-44e2-936e-89bac19cba94",
   "metadata": {},
   "outputs": [],
   "source": []
  },
  {
   "cell_type": "code",
   "execution_count": 30,
   "id": "2c3a4b9b-cbdd-4345-92b2-e85e9e097477",
   "metadata": {},
   "outputs": [
    {
     "data": {
      "text/html": [
       "<div>\n",
       "<style scoped>\n",
       "    .dataframe tbody tr th:only-of-type {\n",
       "        vertical-align: middle;\n",
       "    }\n",
       "\n",
       "    .dataframe tbody tr th {\n",
       "        vertical-align: top;\n",
       "    }\n",
       "\n",
       "    .dataframe thead th {\n",
       "        text-align: right;\n",
       "    }\n",
       "</style>\n",
       "<table border=\"1\" class=\"dataframe\">\n",
       "  <thead>\n",
       "    <tr style=\"text-align: right;\">\n",
       "      <th></th>\n",
       "      <th>SalesRep</th>\n",
       "      <th>UnitsSold</th>\n",
       "    </tr>\n",
       "  </thead>\n",
       "  <tbody>\n",
       "    <tr>\n",
       "      <th>0</th>\n",
       "      <td>Abdul Salim</td>\n",
       "      <td>134</td>\n",
       "    </tr>\n",
       "    <tr>\n",
       "      <th>1</th>\n",
       "      <td>Chuka Obasi</td>\n",
       "      <td>110</td>\n",
       "    </tr>\n",
       "    <tr>\n",
       "      <th>2</th>\n",
       "      <td>Mary Felix</td>\n",
       "      <td>113</td>\n",
       "    </tr>\n",
       "  </tbody>\n",
       "</table>\n",
       "</div>"
      ],
      "text/plain": [
       "      SalesRep  UnitsSold\n",
       "0  Abdul Salim        134\n",
       "1  Chuka Obasi        110\n",
       "2   Mary Felix        113"
      ]
     },
     "execution_count": 30,
     "metadata": {},
     "output_type": "execute_result"
    }
   ],
   "source": [
    "16.#Calculate total units sold by each sales rep.\n",
    "salesrep_units_sold=invent.groupby('SalesRep')['UnitsSold'].sum().reset_index()\n",
    "salesrep_units_sold"
   ]
  },
  {
   "cell_type": "code",
   "execution_count": 31,
   "id": "2f077443-034e-4df5-8da4-39c483b80585",
   "metadata": {},
   "outputs": [
    {
     "data": {
      "text/plain": [
       "<Figure size 1000x800 with 0 Axes>"
      ]
     },
     "metadata": {},
     "output_type": "display_data"
    },
    {
     "data": {
      "image/png": "[encoded data removed]",
      "text/plain": [
       "<Figure size 640x480 with 1 Axes>"
      ]
     },
     "metadata": {},
     "output_type": "display_data"
    }
   ],
   "source": [
    "plt.figure(figsize=(10,8))\n",
    "salesrep_units_sold.plot(kind='bar',x='SalesRep',y='UnitsSold',color=['blue','green','red'])\n",
    "plt.title('SalesRep UnitsSold')\n",
    "plt.xlabel('SalesRep')\n",
    "plt.ylabel('UnitsSold')\n",
    "plt.xticks(rotation=0)\n",
    "plt.tight_layout()\n",
    "plt.show()"
   ]
  },
  {
   "cell_type": "code",
   "execution_count": 32,
   "id": "e38b0992-5e40-4598-bea9-95a2466770cc",
   "metadata": {},
   "outputs": [
    {
     "name": "stdout",
     "output_type": "stream",
     "text": [
      " Revenue from New Customers in Lagos:$2,563,000\n"
     ]
    }
   ],
   "source": [
    "17.#Calculates revenue from Lagos only if the customer is \"New\". (New customers only)\n",
    "lagos_new_revenue=invent[(invent['City']=='Lagos')&(invent['CustomerType']=='New')]['Revenue'].sum()\n",
    "print(f\" Revenue from New Customers in Lagos:${lagos_new_revenue:,.0f}\")"
   ]
  },
  {
   "cell_type": "code",
   "execution_count": null,
   "id": "7b2e051d-975a-4ff2-80f8-24d09c3386b5",
   "metadata": {},
   "outputs": [],
   "source": []
  },
  {
   "cell_type": "code",
   "execution_count": 33,
   "id": "c8414d98-b79d-467d-aecd-2e84ec76d22f",
   "metadata": {},
   "outputs": [
    {
     "name": "stdout",
     "output_type": "stream",
     "text": [
      " total revenue Excluding Port Harcourt: $22,559,000\n"
     ]
    }
   ],
   "source": [
    "18.#Calculate the total revenue excluding transactions from Port Harcourt.\n",
    "non_ph_revenue=invent[invent['City'] != 'Port Harcourt']['Revenue'].sum()\n",
    "print(f\" total revenue Excluding Port Harcourt: ${non_ph_revenue:,.0f}\")"
   ]
  },
  {
   "cell_type": "code",
   "execution_count": null,
   "id": "1f42cfb2-a28e-4f70-8c9f-a130b9fac64e",
   "metadata": {},
   "outputs": [],
   "source": []
  },
  {
   "cell_type": "code",
   "execution_count": 34,
   "id": "d1ffc99b-9f90-405e-afb5-4e00de37955c",
   "metadata": {},
   "outputs": [
    {
     "name": "stdout",
     "output_type": "stream",
     "text": [
      " Average Units Sold Per Transaction: $3.25\n"
     ]
    }
   ],
   "source": [
    "19.#Calculate average units sold per transaction.\n",
    "avg_units_per_transaction=invent['UnitsSold'].mean()\n",
    "print(f\" Average Units Sold Per Transaction: ${avg_units_per_transaction:,.2f}\")"
   ]
  },
  {
   "cell_type": "code",
   "execution_count": null,
   "id": "ab06a801-e950-495c-9672-464ac5c95e00",
   "metadata": {},
   "outputs": [],
   "source": []
  },
  {
   "cell_type": "code",
   "execution_count": 35,
   "id": "dc1489fa-5c27-488c-8406-a3ee071587d3",
   "metadata": {},
   "outputs": [
    {
     "name": "stdout",
     "output_type": "stream",
     "text": [
      " Total Discount Value Across all Sales: $357,300\n"
     ]
    }
   ],
   "source": [
    "20.#Calculate the total discount value across all sales.\n",
    "total_discount_value=invent['Discount'].sum()\n",
    "print(f\" Total Discount Value Across all Sales: ${total_discount_value:,.0f}\")"
   ]
  },
  {
   "cell_type": "code",
   "execution_count": null,
   "id": "cfe97f95-2adb-4d51-bd2f-5011cea1b7c4",
   "metadata": {},
   "outputs": [],
   "source": []
  },
  {
   "cell_type": "code",
   "execution_count": null,
   "id": "6e2348df-edd0-4fcf-b2fb-bc28a14857d0",
   "metadata": {},
   "outputs": [],
   "source": [
    "!pip install plotly\n",
    "!pip install cufflinks\n",
    "!pip install chart_studio\n",
    "from plotly.offline import init_notebook_mode\n",
    "import cufflinks as cf\n",
    "cf.go_offline()\n",
    "import pandas as pd"
   ]
  },
  {
   "cell_type": "code",
   "execution_count": null,
   "id": "a8d362dd-de83-4402-bb0c-2728697d44ed",
   "metadata": {},
   "outputs": [],
   "source": []
  }
 ],
 "metadata": {
  "kernelspec": {
   "display_name": "Python [conda env:PYTHON]",
   "language": "python",
   "name": "conda-env-PYTHON-py"
  },
  "language_info": {
   "codemirror_mode": {
    "name": "ipython",
    "version": 3
   },
   "file_extension": ".py",
   "mimetype": "text/x-python",
   "name": "python",
   "nbconvert_exporter": "python",
   "pygments_lexer": "ipython3",
   "version": "3.12.7"
  }
 },
 "nbformat": 4,
 "nbformat_minor": 5
}
